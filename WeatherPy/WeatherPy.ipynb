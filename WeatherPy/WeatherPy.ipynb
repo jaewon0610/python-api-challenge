{
 "cells": [
  {
   "cell_type": "markdown",
   "metadata": {},
   "source": [
    "# WeatherPy\n",
    "\n",
    "---\n",
    "\n",
    "## Starter Code to Generate Random Geographic Coordinates and a List of Cities"
   ]
  },
  {
   "cell_type": "code",
   "execution_count": null,
   "metadata": {
    "scrolled": true
   },
   "outputs": [],
   "source": [
    "# Dependencies and Setup\n",
    "import matplotlib.pyplot as plt\n",
    "import pandas as pd\n",
    "import numpy as np\n",
    "import requests\n",
    "import time\n",
    "from scipy.stats import linregress\n",
    "\n",
    "# Impor the OpenWeatherMap API key\n",
    "from api_keys import weather_api_key\n",
    "\n",
    "# Import citipy to determine the cities based on latitude and longitude\n",
    "from citipy import citipy"
   ]
  },
  {
   "cell_type": "markdown",
   "metadata": {},
   "source": [
    "### Generate the Cities List by Using the `citipy` Library"
   ]
  },
  {
   "cell_type": "code",
   "execution_count": null,
   "metadata": {},
   "outputs": [],
   "source": [
    "# Empty list for holding the latitude and longitude combinations\n",
    "lat_lngs = []\n",
    "\n",
    "# Empty list for holding the cities names\n",
    "cities = []\n",
    "\n",
    "# Range of latitudes and longitudes\n",
    "lat_range = (-90, 90)\n",
    "lng_range = (-180, 180)\n",
    "\n",
    "# Create a set of random lat and lng combinations\n",
    "lats = np.random.uniform(lat_range[0], lat_range[1], size=1500)\n",
    "lngs = np.random.uniform(lng_range[0], lng_range[1], size=1500)\n",
    "lat_lngs = zip(lats, lngs)\n",
    "\n",
    "# Identify nearest city for each lat, lng combination\n",
    "for lat_lng in lat_lngs:\n",
    "    city = citipy.nearest_city(lat_lng[0], lat_lng[1]).city_name\n",
    "\n",
    "    # If the city is unique, then add it to a our cities list\n",
    "    if city not in cities:\n",
    "        cities.append(city)\n",
    "\n",
    "# Print the city count to confirm sufficient count\n",
    "print(f\"Number of cities in the list: {len(cities)}\")"
   ]
  },
  {
   "cell_type": "markdown",
   "metadata": {},
   "source": [
    "---"
   ]
  },
  {
   "cell_type": "markdown",
   "metadata": {},
   "source": [
    "## Requirement 1: Create Plots to Showcase the Relationship Between Weather Variables and Latitude\n",
    "\n",
    "### Use the OpenWeatherMap API to retrieve weather data from the cities list generated in the started code"
   ]
  },
  {
   "cell_type": "code",
   "execution_count": null,
   "metadata": {},
   "outputs": [],
   "source": [
    "# Set the API base URL\n",
    "url = \"http://api.openweathermap.org/data/2.5/weather\" # YOUR CODE HERE\n",
    "\n",
    "# Define an empty list to fetch the weather data for each city\n",
    "city_data = []\n",
    "\n",
    "# Print to logger\n",
    "print(\"Beginning Data Retrieval     \")\n",
    "print(\"-----------------------------\")\n",
    "\n",
    "# Create counters\n",
    "record_count = 1\n",
    "set_count = 1\n",
    "\n",
    "# Loop through all the cities in our list to fetch weather data\n",
    "for i, city in enumerate(city_data):\n",
    "\n",
    "    # Group cities in sets of 50 for logging purposes\n",
    "    if (i % 50 == 0 and i >= 50):\n",
    "        set_count += 1\n",
    "        record_count = 0\n",
    "\n",
    "    # Create endpoint URL with each city\n",
    "    city_url = f\"{url}?q={city}&appid={weather_api_key}&units=metric\" # YOUR CODE HERE\n",
    "\n",
    "    # Log the url, record, and set numbers\n",
    "    print(\"Processing Record %s of Set %s | %s\" % (record_count, set_count, city))\n",
    "\n",
    "    # Add 1 to the record count\n",
    "    record_count += 1\n",
    "\n",
    "    # Run an API request for each of the cities\n",
    "    try:\n",
    "        # Parse the JSON and retrieve data\n",
    "        city_weather = requests.get(city_url).json() # YOUR CODE HERE\n",
    "\n",
    "        # Parse out latitude, longitude, max temp, humidity, cloudiness, wind speed, country, and date\n",
    "        city_lat = city_weather['coord']['lat'] # YOUR CODE HERE\n",
    "        city_lng = city_weather['coord']['lon'] # YOUR CODE HERE\n",
    "        city_max_temp = city_weather['main']['temp_max'] # YOUR CODE HERE\n",
    "        city_humidity = city_weather['main']['humidity'] # YOUR CODE HERE\n",
    "        city_clouds = city_weather['clouds']['all'] # YOUR CODE HERE\n",
    "        city_wind = city_weather['wind']['speed'] # YOUR CODE HERE\n",
    "        city_country = city_weather['sys']['country'] # YOUR CODE HERE\n",
    "        city_date = city_weather['dt'] # YOUR CODE HERE\n",
    "\n",
    "        # Append the City information into city_data list\n",
    "        city_data.append({\"City\": city,\n",
    "                          \"Lat\": city_lat,\n",
    "                          \"Lng\": city_lng,\n",
    "                          \"Max Temp\": city_max_temp,\n",
    "                          \"Humidity\": city_humidity,\n",
    "                          \"Cloudiness\": city_clouds,\n",
    "                          \"Wind Speed\": city_wind,\n",
    "                          \"Country\": city_country,\n",
    "                          \"Date\": city_date})\n",
    "\n",
    "    # If an error is experienced, skip the city\n",
    "    except:\n",
    "        print(\"City not found. Skipping...\")\n",
    "        pass\n",
    "\n",
    "    # pause to avoid rate limiting\n",
    "    time.sleep(1)\n",
    "\n",
    "# Indicate that Data Loading is complete\n",
    "print(\"-----------------------------\")\n",
    "print(\"Data Retrieval Complete      \")\n",
    "print(\"-----------------------------\")"
   ]
  },
  {
   "cell_type": "code",
   "execution_count": null,
   "metadata": {},
   "outputs": [],
   "source": [
    "# Convert the cities weather data into a Pandas DataFrame\n",
    "city_data_df = pd.DataFrame(city_data) # YOUR CODE HERE\n",
    "\n",
    "# Show Record Count\n",
    "city_data_df.count()"
   ]
  },
  {
   "cell_type": "code",
   "execution_count": null,
   "metadata": {},
   "outputs": [],
   "source": [
    "# Display sample data\n",
    "city_data_df.head()"
   ]
  },
  {
   "cell_type": "code",
   "execution_count": null,
   "metadata": {},
   "outputs": [],
   "source": [
    "# Export the City_Data into a csv\n",
    "city_data_df.to_csv(\"output_data/cities.csv\", index_label=\"City_ID\")"
   ]
  },
  {
   "cell_type": "code",
   "execution_count": null,
   "metadata": {},
   "outputs": [],
   "source": [
    "# Read saved data\n",
    "city_data_df = pd.read_csv(\"output_data/cities.csv\", index_col=\"City_ID\")\n",
    "\n",
    "# Display sample data\n",
    "city_data_df.head()"
   ]
  },
  {
   "cell_type": "markdown",
   "metadata": {},
   "source": [
    "### Create the Scatter Plots Requested\n",
    "\n",
    "#### Latitude Vs. Temperature"
   ]
  },
  {
   "cell_type": "code",
   "execution_count": null,
   "metadata": {
    "tags": []
   },
   "outputs": [],
   "source": [
    "# Build scatter plot for latitude vs. temperature\n",
    "plt.scatter(city_data_df['Lat'], city_data_df['Max Temp'], marker='o', color='blue')\n",
    "\n",
    "# Incorporate the other graph properties\n",
    "plt.title(\"City Latitude vs. Max Temperature\")\n",
    "plt.xlabel(\"Latitude\")\n",
    "plt.ylabel(\"Max Temperature (°C)\")\n",
    "plt.grid(True)\n",
    "\n",
    "# Save the figure\n",
    "plt.savefig(\"output_data/Fig1.png\")\n",
    "\n",
    "# Show plot\n",
    "plt.show()"
   ]
  },
  {
   "cell_type": "markdown",
   "metadata": {},
   "source": [
    "#### Latitude Vs. Humidity"
   ]
  },
  {
   "cell_type": "code",
   "execution_count": null,
   "metadata": {},
   "outputs": [],
   "source": [
    "# Build the scatter plots for latitude vs. humidity\n",
    "plt.scatter(city_data_df['Lat'], city_data_df['Humidity'], marker='o', color='green')\n",
    "\n",
    "# Incorporate the other graph properties\n",
    "plt.title(\"City Latitude vs. Humidity\")\n",
    "plt.xlabel(\"Latitude\")\n",
    "plt.ylabel(\"Humidity (%)\")\n",
    "plt.grid(True)\n",
    "\n",
    "# Save the figure\n",
    "plt.savefig(\"output_data/Fig2.png\")\n",
    "\n",
    "# Show plot\n",
    "plt.show()"
   ]
  },
  {
   "cell_type": "markdown",
   "metadata": {},
   "source": [
    "#### Latitude Vs. Cloudiness"
   ]
  },
  {
   "cell_type": "code",
   "execution_count": null,
   "metadata": {},
   "outputs": [],
   "source": [
    "# Build the scatter plots for latitude vs. cloudiness\n",
    "plt.scatter(city_data_df['Lat'], city_data_df['Cloudiness'], marker='o', color='orange')\n",
    "\n",
    "# Incorporate the other graph properties\n",
    "plt.title(\"City Latitude vs. Cloudiness\")\n",
    "plt.xlabel(\"Latitude\")\n",
    "plt.ylabel(\"Cloudiness (%)\")\n",
    "plt.grid(True)\n",
    "\n",
    "# Save the figure\n",
    "plt.savefig(\"output_data/Fig3.png\")\n",
    "\n",
    "# Show plot\n",
    "plt.show()"
   ]
  },
  {
   "cell_type": "markdown",
   "metadata": {},
   "source": [
    "#### Latitude vs. Wind Speed Plot"
   ]
  },
  {
   "cell_type": "code",
   "execution_count": null,
   "metadata": {},
   "outputs": [],
   "source": [
    "# Build the scatter plots for latitude vs. wind speed\n",
    "plt.scatter(city_data_df['Lat'], city_data_df['Wind Speed'], marker='o', color='purple')\n",
    "\n",
    "# Incorporate the other graph properties\n",
    "plt.title(\"City Latitude vs. Wind Speed\")\n",
    "plt.xlabel(\"Latitude\")\n",
    "plt.ylabel(\"Wind Speed (m/s)\")\n",
    "plt.grid(True)\n",
    "\n",
    "# Save the figure\n",
    "plt.savefig(\"output_data/Fig4.png\")\n",
    "\n",
    "# Show plot\n",
    "plt.show()"
   ]
  },
  {
   "cell_type": "markdown",
   "metadata": {},
   "source": [
    "---\n",
    "\n",
    "## Requirement 2: Compute Linear Regression for Each Relationship\n"
   ]
  },
  {
   "cell_type": "code",
   "execution_count": null,
   "metadata": {},
   "outputs": [],
   "source": [
    "# Define a function to create Linear Regression plots\n",
    "def create_linear_regression_plot(x, y, x_label, y_label, title, output_file):\n",
    "    # Perform linear regression\n",
    "    slope, intercept, r_value, p_value, std_err = linregress(x, y)\n",
    "    \n",
    "    # Calculate the regression line values\n",
    "    regress_values = slope * x + intercept\n",
    "    \n",
    "    # Create the scatter plot\n",
    "    plt.scatter(x, y, marker='o', color='blue')\n",
    "    \n",
    "    # Plot the regression line\n",
    "    plt.plot(x, regress_values, color='red')\n",
    "    \n",
    "    # Incorporate the other graph properties\n",
    "    plt.title(title)\n",
    "    plt.xlabel(x_label)\n",
    "    plt.ylabel(y_label)\n",
    "    plt.grid(True)\n",
    "    \n",
    "    # Display the r-squared value on the plot\n",
    "    plt.text(0.05, 0.95, f\"R² = {r_value**2:.3f}\", transform=plt.gca().transAxes, fontsize=12, verticalalignment='top')\n",
    "    \n",
    "    # Save the figure\n",
    "    plt.savefig(output_file)\n",
    "    \n",
    "    # Show plot\n",
    "    plt.show()"
   ]
  },
  {
   "cell_type": "code",
   "execution_count": null,
   "metadata": {},
   "outputs": [],
   "source": [
    "# Create a DataFrame with the Northern Hemisphere data (Latitude >= 0)\n",
    "northern_hemi_df = city_data_df[city_data_df['Lat'] >= 0]\n",
    "\n",
    "# Display sample data\n",
    "northern_hemi_df.head()"
   ]
  },
  {
   "cell_type": "code",
   "execution_count": null,
   "metadata": {},
   "outputs": [],
   "source": [
    "# Create a DataFrame with the Southern Hemisphere data (Latitude < 0)\n",
    "southern_hemi_df = city_data_df[city_data_df['Lat'] < 0]\n",
    "\n",
    "# Display sample data\n",
    "southern_hemi_df.head()"
   ]
  },
  {
   "cell_type": "markdown",
   "metadata": {},
   "source": [
    "###  Temperature vs. Latitude Linear Regression Plot"
   ]
  },
  {
   "cell_type": "code",
   "execution_count": 26,
   "metadata": {},
   "outputs": [
    {
     "ename": "NameError",
     "evalue": "name 'northern_hemi_df' is not defined",
     "output_type": "error",
     "traceback": [
      "\u001b[0;31m---------------------------------------------------------------------------\u001b[0m",
      "\u001b[0;31mNameError\u001b[0m                                 Traceback (most recent call last)",
      "\u001b[0;32m<ipython-input-26-813affed6be9>\u001b[0m in \u001b[0;36m<module>\u001b[0;34m\u001b[0m\n\u001b[1;32m      1\u001b[0m \u001b[0;31m# Linear regression on Northern Hemisphere\u001b[0m\u001b[0;34m\u001b[0m\u001b[0;34m\u001b[0m\u001b[0;34m\u001b[0m\u001b[0m\n\u001b[0;32m----> 2\u001b[0;31m create_linear_regression_plot(northern_hemi_df['Lat'], northern_hemi_df['Max Temp'], \n\u001b[0m\u001b[1;32m      3\u001b[0m                               \u001b[0;34m\"Latitude\"\u001b[0m\u001b[0;34m,\u001b[0m \u001b[0;34m\"Max Temperature (°C)\"\u001b[0m\u001b[0;34m,\u001b[0m\u001b[0;34m\u001b[0m\u001b[0;34m\u001b[0m\u001b[0m\n\u001b[1;32m      4\u001b[0m                               \u001b[0;34m\"Linear Regression: Northern Hemisphere Latitude vs. Max Temperature\"\u001b[0m\u001b[0;34m,\u001b[0m\u001b[0;34m\u001b[0m\u001b[0;34m\u001b[0m\u001b[0m\n\u001b[1;32m      5\u001b[0m                               \"output_data/LinearRegress_NorthernTemp.png\")\n",
      "\u001b[0;31mNameError\u001b[0m: name 'northern_hemi_df' is not defined"
     ]
    }
   ],
   "source": [
    "# Linear regression on Northern Hemisphere\n",
    "create_linear_regression_plot(northern_hemi_df['Lat'], northern_hemi_df['Max Temp'], \n",
    "                              \"Latitude\", \"Max Temperature (°C)\", \n",
    "                              \"Linear Regression: Northern Hemisphere Latitude vs. Max Temperature\", \n",
    "                              \"output_data/LinearRegress_NorthernTemp.png\")\n",
    "create_linear_regression_plot(northern_hemi_df['Lat'], northern_hemi_df['Humidity'], \n",
    "                              \"Latitude\", \"Humidity (%)\", \n",
    "                              \"Linear Regression: Northern Hemisphere Latitude vs. Humidity\", \n",
    "                              \"output_data/LinearRegress_NorthernHumidity.png\")\n",
    "create_linear_regression_plot(northern_hemi_df['Lat'], northern_hemi_df['Cloudiness'], \n",
    "                              \"Latitude\", \"Cloudiness (%)\", \n",
    "                              \"Linear Regression: Northern Hemisphere Latitude vs. Cloudiness\", \n",
    "                              \"output_data/LinearRegress_NorthernCloudiness.png\")\n",
    "create_linear_regression_plot(northern_hemi_df['Lat'], northern_hemi_df['Wind Speed'], \n",
    "                              \"Latitude\", \"Wind Speed (m/s)\", \n",
    "                              \"Linear Regression: Northern Hemisphere Latitude vs. Wind Speed\", \n",
    "                              \"output_data/LinearRegress_NorthernWindSpeed.png\")"
   ]
  },
  {
   "cell_type": "code",
   "execution_count": 27,
   "metadata": {},
   "outputs": [
    {
     "ename": "NameError",
     "evalue": "name 'southern_hemi_df' is not defined",
     "output_type": "error",
     "traceback": [
      "\u001b[0;31m---------------------------------------------------------------------------\u001b[0m",
      "\u001b[0;31mNameError\u001b[0m                                 Traceback (most recent call last)",
      "\u001b[0;32m<ipython-input-27-5f0c727a7aac>\u001b[0m in \u001b[0;36m<module>\u001b[0;34m\u001b[0m\n\u001b[1;32m      1\u001b[0m \u001b[0;31m# Linear regression on Southern Hemisphere\u001b[0m\u001b[0;34m\u001b[0m\u001b[0;34m\u001b[0m\u001b[0;34m\u001b[0m\u001b[0m\n\u001b[0;32m----> 2\u001b[0;31m create_linear_regression_plot(southern_hemi_df['Lat'], southern_hemi_df['Max Temp'], \n\u001b[0m\u001b[1;32m      3\u001b[0m                               \u001b[0;34m\"Latitude\"\u001b[0m\u001b[0;34m,\u001b[0m \u001b[0;34m\"Max Temperature (°C)\"\u001b[0m\u001b[0;34m,\u001b[0m\u001b[0;34m\u001b[0m\u001b[0;34m\u001b[0m\u001b[0m\n\u001b[1;32m      4\u001b[0m                               \u001b[0;34m\"Linear Regression: Southern Hemisphere Latitude vs. Max Temperature\"\u001b[0m\u001b[0;34m,\u001b[0m\u001b[0;34m\u001b[0m\u001b[0;34m\u001b[0m\u001b[0m\n\u001b[1;32m      5\u001b[0m                               \"output_data/LinearRegress_SouthernTemp.png\")\n",
      "\u001b[0;31mNameError\u001b[0m: name 'southern_hemi_df' is not defined"
     ]
    }
   ],
   "source": [
    "# Linear regression on Southern Hemisphere\n",
    "create_linear_regression_plot(southern_hemi_df['Lat'], southern_hemi_df['Max Temp'], \n",
    "                              \"Latitude\", \"Max Temperature (°C)\", \n",
    "                              \"Linear Regression: Southern Hemisphere Latitude vs. Max Temperature\", \n",
    "                              \"output_data/LinearRegress_SouthernTemp.png\")\n",
    "create_linear_regression_plot(southern_hemi_df['Lat'], southern_hemi_df['Humidity'], \n",
    "                              \"Latitude\", \"Humidity (%)\", \n",
    "                              \"Linear Regression: Southern Hemisphere Latitude vs. Humidity\", \n",
    "                              \"output_data/LinearRegress_SouthernHumidity.png\")\n",
    "create_linear_regression_plot(southern_hemi_df['Lat'], southern_hemi_df['Cloudiness'], \n",
    "                              \"Latitude\", \"Cloudiness (%)\", \n",
    "                              \"Linear Regression: Southern Hemisphere Latitude vs. Cloudiness\", \n",
    "                              \"output_data/LinearRegress_SouthernCloudiness.png\")\n",
    "create_linear_regression_plot(southern_hemi_df['Lat'], southern_hemi_df['Wind Speed'], \n",
    "                              \"Latitude\", \"Wind Speed (m/s)\", \n",
    "                              \"Linear Regression: Southern Hemisphere Latitude vs. Wind Speed\", \n",
    "                              \"output_data/LinearRegress_SouthernWindSpeed.png\")"
   ]
  },
  {
   "cell_type": "markdown",
   "metadata": {},
   "source": [
    "**Discussion about the linear relationship:** YOUR RESPONSE HERE"
   ]
  },
  {
   "cell_type": "markdown",
   "metadata": {},
   "source": [
    "### Humidity vs. Latitude Linear Regression Plot"
   ]
  },
  {
   "cell_type": "code",
   "execution_count": null,
   "metadata": {},
   "outputs": [],
   "source": [
    "# Northern Hemisphere\n",
    "# YOUR CODE HERE"
   ]
  },
  {
   "cell_type": "code",
   "execution_count": null,
   "metadata": {},
   "outputs": [],
   "source": [
    "# Southern Hemisphere\n",
    "# YOUR CODE HERE"
   ]
  },
  {
   "cell_type": "markdown",
   "metadata": {},
   "source": [
    "**Discussion about the linear relationship:** YOUR RESPONSE HERE"
   ]
  },
  {
   "cell_type": "markdown",
   "metadata": {},
   "source": [
    "### Cloudiness vs. Latitude Linear Regression Plot"
   ]
  },
  {
   "cell_type": "code",
   "execution_count": null,
   "metadata": {},
   "outputs": [],
   "source": [
    "# Northern Hemisphere\n",
    "# YOUR CODE HERE"
   ]
  },
  {
   "cell_type": "code",
   "execution_count": null,
   "metadata": {},
   "outputs": [],
   "source": [
    "# Southern Hemisphere\n",
    "# YOUR CODE HERE"
   ]
  },
  {
   "cell_type": "markdown",
   "metadata": {},
   "source": [
    "**Discussion about the linear relationship:** YOUR RESPONSE HERE"
   ]
  },
  {
   "cell_type": "markdown",
   "metadata": {},
   "source": [
    "### Wind Speed vs. Latitude Linear Regression Plot"
   ]
  },
  {
   "cell_type": "code",
   "execution_count": null,
   "metadata": {},
   "outputs": [],
   "source": [
    "# Northern Hemisphere\n",
    "# YOUR CODE HERE"
   ]
  },
  {
   "cell_type": "code",
   "execution_count": null,
   "metadata": {},
   "outputs": [],
   "source": [
    "# Southern Hemisphere\n",
    "# YOUR CODE HERE"
   ]
  },
  {
   "cell_type": "markdown",
   "metadata": {},
   "source": [
    "**Discussion about the linear relationship:** YOUR RESPONSE HERE"
   ]
  },
  {
   "cell_type": "code",
   "execution_count": null,
   "metadata": {},
   "outputs": [],
   "source": []
  }
 ],
 "metadata": {
  "anaconda-cloud": {},
  "kernel_info": {
   "name": "python3"
  },
  "kernelspec": {
   "display_name": "Python 3",
   "language": "python",
   "name": "python3"
  },
  "language_info": {
   "codemirror_mode": {
    "name": "ipython",
    "version": 3
   },
   "file_extension": ".py",
   "mimetype": "text/x-python",
   "name": "python",
   "nbconvert_exporter": "python",
   "pygments_lexer": "ipython3",
   "version": "3.7.3"
  },
  "latex_envs": {
   "LaTeX_envs_menu_present": true,
   "autoclose": false,
   "autocomplete": true,
   "bibliofile": "biblio.bib",
   "cite_by": "apalike",
   "current_citInitial": 1,
   "eqLabelWithNumbers": true,
   "eqNumInitial": 1,
   "hotkeys": {
    "equation": "Ctrl-E",
    "itemize": "Ctrl-I"
   },
   "labels_anchors": false,
   "latex_user_defs": false,
   "report_style_numbering": false,
   "user_envs_cfg": false
  },
  "nteract": {
   "version": "0.12.3"
  }
 },
 "nbformat": 4,
 "nbformat_minor": 4
}
